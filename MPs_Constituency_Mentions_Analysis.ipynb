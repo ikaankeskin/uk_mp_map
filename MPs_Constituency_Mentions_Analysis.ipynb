{
 "cells": [
  {
   "cell_type": "markdown",
   "id": "4cba13de",
   "metadata": {},
   "source": [
    "## MPs and Constituency Mentions Analysis"
   ]
  },
  {
   "cell_type": "markdown",
   "id": "1cffc497",
   "metadata": {},
   "source": [
    "### Importing Libraries"
   ]
  },
  {
   "cell_type": "code",
   "execution_count": 2,
   "id": "64d9aba4",
   "metadata": {},
   "outputs": [],
   "source": [
    "import pandas as pd\n",
    "from collections import defaultdict\n",
    "import re"
   ]
  },
  {
   "cell_type": "markdown",
   "id": "80198479",
   "metadata": {},
   "source": [
    "### Reading Data"
   ]
  },
  {
   "cell_type": "code",
   "execution_count": 3,
   "id": "c56d7c1c",
   "metadata": {},
   "outputs": [
    {
     "name": "stderr",
     "output_type": "stream",
     "text": [
      "C:\\Users\\ikaan\\AppData\\Local\\Temp\\ipykernel_36116\\3874952680.py:3: DtypeWarning: Columns (8,10,11,12,15,16,18) have mixed types. Specify dtype option on import or set low_memory=False.\n",
      "  df1 = pd.read_csv(file1_path)\n"
     ]
    }
   ],
   "source": [
    "file1_path = 'hansard-speeches-v310.csv'\n",
    "file2_path = 'constitu.csv'\n",
    "df1 = pd.read_csv(file1_path)\n",
    "df2 = pd.read_csv(file2_path)"
   ]
  },
  {
   "cell_type": "markdown",
   "id": "c884cf9f",
   "metadata": {},
   "source": [
    "### Data Preprocessing"
   ]
  },
  {
   "cell_type": "code",
   "execution_count": 8,
   "id": "5f266e91",
   "metadata": {},
   "outputs": [],
   "source": [
    "df2.columns\n",
    "\n",
    "# rename PCON21NM to Constituency\n",
    "df2.rename(columns={'PCON21NM': 'Constituency'}, inplace=True)"
   ]
  },
  {
   "cell_type": "code",
   "execution_count": 9,
   "id": "069ee622",
   "metadata": {},
   "outputs": [],
   "source": [
    "\n",
    "# Convert constituency names to lowercase in df1 for matching\n",
    "df1['constituency'] = df1['constituency'].str.lower()\n",
    "# Also convert constituency names to lowercase in df2\n",
    "df2['Constituency'] = df2['Constituency'].str.lower()\n"
   ]
  },
  {
   "cell_type": "markdown",
   "id": "1167d2f5",
   "metadata": {},
   "source": [
    "### Counting Mentions and Grouping"
   ]
  },
  {
   "cell_type": "code",
   "execution_count": 11,
   "id": "40dc5d99",
   "metadata": {},
   "outputs": [],
   "source": [
    "df1['speech_cleaned'] = df1['speech'].str.lower().str.replace('[^\\w\\s]', '').str.replace('\\d+', '')"
   ]
  },
  {
   "cell_type": "code",
   "execution_count": 12,
   "id": "7679061b",
   "metadata": {},
   "outputs": [],
   "source": [
    "\n",
    "# Group by MP, Party, Year, and Constituency\n",
    "df1_grouped = df1.groupby(['display_as', 'party', 'year', 'constituency'])\n",
    "\n",
    "# Initialize a dictionary to hold counts\n",
    "count_mentions = defaultdict(int)\n",
    "\n",
    "# Loop through each group to count mentions\n",
    "for (mp, party, year, constituency), group in df1_grouped:\n",
    "    for speech in group['speech_cleaned']:\n",
    "        # Count the mentions of the constituency by name or \"my constituency\"\n",
    "        count_mentions[(mp, party, year, constituency)] += len(re.findall(fr'\\b{constituency}\\b', speech))\n",
    "        count_mentions[(mp, party, year, constituency)] += len(re.findall(r'\\bmy constituency\\b', speech))\n"
   ]
  },
  {
   "cell_type": "markdown",
   "id": "5aab0043",
   "metadata": {},
   "source": [
    "### Creating the Final DataFrame"
   ]
  },
  {
   "cell_type": "code",
   "execution_count": 15,
   "id": "e750a76a",
   "metadata": {},
   "outputs": [],
   "source": [
    "df2\n",
    "# rename LONG as long_con\n",
    "df2.rename(columns={'LONG': 'lon_con'}, inplace=True)\n",
    "# rename LAT as lat_con\n",
    "df2.rename(columns={'LAT': 'lat_con'}, inplace=True)"
   ]
  },
  {
   "cell_type": "code",
   "execution_count": 18,
   "id": "6cb7066a",
   "metadata": {},
   "outputs": [],
   "source": []
  },
  {
   "cell_type": "code",
   "execution_count": 19,
   "id": "bb9ba233",
   "metadata": {},
   "outputs": [
    {
     "data": {
      "text/html": [
       "<div>\n",
       "<style scoped>\n",
       "    .dataframe tbody tr th:only-of-type {\n",
       "        vertical-align: middle;\n",
       "    }\n",
       "\n",
       "    .dataframe tbody tr th {\n",
       "        vertical-align: top;\n",
       "    }\n",
       "\n",
       "    .dataframe thead th {\n",
       "        text-align: right;\n",
       "    }\n",
       "</style>\n",
       "<table border=\"1\" class=\"dataframe\">\n",
       "  <thead>\n",
       "    <tr style=\"text-align: right;\">\n",
       "      <th></th>\n",
       "      <th>MP</th>\n",
       "      <th>Party</th>\n",
       "      <th>Year</th>\n",
       "      <th>Constituency</th>\n",
       "      <th>No_of_mentions</th>\n",
       "      <th>lat_con</th>\n",
       "      <th>lon_con</th>\n",
       "    </tr>\n",
       "  </thead>\n",
       "  <tbody>\n",
       "    <tr>\n",
       "      <th>0</th>\n",
       "      <td>Aaron Bell</td>\n",
       "      <td>Conservative</td>\n",
       "      <td>2020</td>\n",
       "      <td>newcastle-under-lyme</td>\n",
       "      <td>102</td>\n",
       "      <td>53.03604</td>\n",
       "      <td>-2.29439</td>\n",
       "    </tr>\n",
       "    <tr>\n",
       "      <th>1</th>\n",
       "      <td>Aaron Bell</td>\n",
       "      <td>Conservative</td>\n",
       "      <td>2021</td>\n",
       "      <td>newcastle-under-lyme</td>\n",
       "      <td>35</td>\n",
       "      <td>53.03604</td>\n",
       "      <td>-2.29439</td>\n",
       "    </tr>\n",
       "    <tr>\n",
       "      <th>2</th>\n",
       "      <td>Abena Oppong-Asare</td>\n",
       "      <td>Labour</td>\n",
       "      <td>2020</td>\n",
       "      <td>erith and thamesmead</td>\n",
       "      <td>27</td>\n",
       "      <td>51.49174</td>\n",
       "      <td>0.12906</td>\n",
       "    </tr>\n",
       "    <tr>\n",
       "      <th>3</th>\n",
       "      <td>Abena Oppong-Asare</td>\n",
       "      <td>Labour</td>\n",
       "      <td>2021</td>\n",
       "      <td>erith and thamesmead</td>\n",
       "      <td>6</td>\n",
       "      <td>51.49174</td>\n",
       "      <td>0.12906</td>\n",
       "    </tr>\n",
       "    <tr>\n",
       "      <th>4</th>\n",
       "      <td>Adam Afriyie</td>\n",
       "      <td>Conservative</td>\n",
       "      <td>2005</td>\n",
       "      <td>windsor</td>\n",
       "      <td>20</td>\n",
       "      <td>51.43494</td>\n",
       "      <td>-0.69987</td>\n",
       "    </tr>\n",
       "  </tbody>\n",
       "</table>\n",
       "</div>"
      ],
      "text/plain": [
       "                   MP         Party  Year          Constituency  \\\n",
       "0          Aaron Bell  Conservative  2020  newcastle-under-lyme   \n",
       "1          Aaron Bell  Conservative  2021  newcastle-under-lyme   \n",
       "2  Abena Oppong-Asare        Labour  2020  erith and thamesmead   \n",
       "3  Abena Oppong-Asare        Labour  2021  erith and thamesmead   \n",
       "4        Adam Afriyie  Conservative  2005               windsor   \n",
       "\n",
       "   No_of_mentions   lat_con  lon_con  \n",
       "0             102  53.03604 -2.29439  \n",
       "1              35  53.03604 -2.29439  \n",
       "2              27  51.49174  0.12906  \n",
       "3               6  51.49174  0.12906  \n",
       "4              20  51.43494 -0.69987  "
      ]
     },
     "execution_count": 19,
     "metadata": {},
     "output_type": "execute_result"
    }
   ],
   "source": [
    "\n",
    "# Convert the dictionary to a DataFrame\n",
    "df_mentions = pd.DataFrame(list(count_mentions.keys()), columns=['MP', 'Party', 'Year', 'Constituency'])\n",
    "df_mentions['No_of_mentions'] = list(count_mentions.values())\n",
    "\n",
    "# Handle party changes\n",
    "df_mentions['Party'] = df_mentions.groupby(['MP', 'Year'])['Party'].transform(lambda x: ' / '.join(x.unique()))\n",
    "\n",
    "# Merge with latitude and longitude\n",
    "df_final = pd.merge(df_mentions, df2[['Constituency', 'lat_con', 'lon_con']], how='left', on='Constituency')\n",
    "\n",
    "# Drop duplicates and reset index\n",
    "df_final = df_final.drop_duplicates().reset_index(drop=True)\n",
    "df_final.head()\n"
   ]
  },
  {
   "cell_type": "code",
   "execution_count": 20,
   "id": "5ef11d2d",
   "metadata": {},
   "outputs": [],
   "source": [
    "df_final.to_csv('MPs_Constituency_Mentions.csv', index=False)"
   ]
  },
  {
   "cell_type": "code",
   "execution_count": 43,
   "id": "13f236fd",
   "metadata": {},
   "outputs": [
    {
     "name": "stdout",
     "output_type": "stream",
     "text": [
      "Number of unique constituencies in df2: 650\n",
      "Number of unique constituencies in df_final: 646\n",
      "Number of unique constituencies in df2 that are not in df_final: ['belfast west' 'mid ulster' 'newry and armagh' 'west tyrone']\n"
     ]
    }
   ],
   "source": [
    "# show rows with nan values and order by descending Year\n",
    "df_final[df_final.isna().any(axis=1)].sort_values(by=['Year'], ascending=False).Constituency.unique()\n",
    "\n",
    "\n",
    "# only show rows after 2010 \n",
    "df_final[df_final['Year'] > 2010].sort_values(by=['No_of_mentions'], ascending=False)\n",
    "\n",
    "# show the count of unique constituencies after 2010\n",
    "df_final[df_final['Year'] > 2010].Constituency.nunique()\n",
    "\n",
    "# find unique constituencies in df2 \n",
    "a = df2.Constituency.nunique()\n",
    "\n",
    "# find unique constituencies in df_final\n",
    "b = df_final[df_final['Year'] > 2010].Constituency.nunique()\n",
    "\n",
    "# find unique constituencies in df2 that are not in df_final\n",
    "c = df2[~df2.Constituency.isin(df_final[df_final['Year'] > 2010].Constituency)].Constituency.unique()\n",
    "\n",
    "\n",
    "print(f'Number of unique constituencies in df2: {a}')\n",
    "print(f'Number of unique constituencies in df_final: {b}')\n",
    "print(f'Number of unique constituencies in df2 that are not in df_final: {c}')\n",
    "\n",
    "\n",
    "# missing_constituencies = df2.loc[df2['Constituency'].isin(df_final['Constituency']), 'Constituency'].unique()\n",
    "\n",
    "# missing_constituencies"
   ]
  },
  {
   "cell_type": "code",
   "execution_count": 45,
   "id": "d0e663b2",
   "metadata": {},
   "outputs": [],
   "source": [
    "!pip install -q plotly dash pandas"
   ]
  },
  {
   "cell_type": "code",
   "execution_count": 50,
   "id": "26a184da",
   "metadata": {},
   "outputs": [],
   "source": [
    "df_final = df_final[df_final['Year'] > 2010]"
   ]
  },
  {
   "cell_type": "code",
   "execution_count": 52,
   "id": "7c95d3de",
   "metadata": {},
   "outputs": [
    {
     "data": {
      "text/html": [
       "\n",
       "        <iframe\n",
       "            width=\"100%\"\n",
       "            height=\"650\"\n",
       "            src=\"http://127.0.0.1:8050/\"\n",
       "            frameborder=\"0\"\n",
       "            allowfullscreen\n",
       "            \n",
       "        ></iframe>\n",
       "        "
      ],
      "text/plain": [
       "<IPython.lib.display.IFrame at 0x28f9aea4a50>"
      ]
     },
     "metadata": {},
     "output_type": "display_data"
    }
   ],
   "source": [
    "import dash\n",
    "import dash_core_components as dcc\n",
    "import dash_html_components as html\n",
    "from dash.dependencies import Input, Output\n",
    "import plotly.express as px\n",
    "\n",
    "# Initialize the Dash app\n",
    "app = dash.Dash(__name__)\n",
    "\n",
    "# Create a bar plot using Plotly Express\n",
    "fig_bar = px.bar(df_final, x='MP', y='No_of_mentions', title='Number of Mentions by MP')\n",
    "\n",
    "# Create a map using Plotly Express\n",
    "fig_map = px.scatter_geo(df_final, lat='lat_con', lon='lon_con',\n",
    "                         color='No_of_mentions', title='Constituencies Mentioned',\n",
    "                         projection='natural earth')\n",
    "\n",
    "# Define the layout of the app\n",
    "app.layout = html.Div([\n",
    "    html.H1('MPs and Constituency Mentions Analysis'),\n",
    "    html.Label('Select MP:'),\n",
    "    dcc.Dropdown(\n",
    "        id='mp-dropdown',\n",
    "        options=[{'label': mp, 'value': mp} for mp in df_final['MP'].unique()],\n",
    "        value=None \n",
    "    ),\n",
    "    html.Label('Select Party:'),\n",
    "    dcc.Dropdown(\n",
    "        id='party-dropdown',\n",
    "        options=[{'label': party, 'value': party} for party in df_final['Party'].unique()],\n",
    "        value=None \n",
    "    ),\n",
    "    \n",
    "    html.Label('Select Year:'),\n",
    "    dcc.Dropdown(\n",
    "        id='year-dropdown',\n",
    "        options=[{'label': year, 'value': year} for year in df_final['Year'].unique()],\n",
    "        value=None \n",
    "    ),\n",
    "    dcc.Graph(id='bar-plot', figure=fig_bar),\n",
    "    dcc.Graph(id='map', figure=fig_map),\n",
    "    html.Div(id='data-table')\n",
    "])\n",
    "\n",
    "# Define callback to update data table\n",
    "@app.callback(\n",
    "    Output('data-table', 'children'),\n",
    "    [Input('year-dropdown', 'value'),\n",
    "     Input('mp-dropdown', 'value'),\n",
    "     Input('party-dropdown', 'value')]\n",
    ")\n",
    "def update_table(selected_year, selected_mp, selected_party):\n",
    "    filtered_df = df_final[\n",
    "        (df_final['Year'] == selected_year) & \n",
    "        (df_final['MP'] == selected_mp) & \n",
    "        (df_final['Party'] == selected_party)\n",
    "    ]\n",
    "    return html.Table([\n",
    "        html.Thead([\n",
    "            html.Tr([html.Th(col) for col in filtered_df.columns])\n",
    "        ]),\n",
    "        html.Tbody([\n",
    "            html.Tr([html.Td(cell) for cell in row]) for row in filtered_df.values\n",
    "        ])\n",
    "    ])\n",
    "\n",
    "# Run the app\n",
    "if __name__ == '__main__':\n",
    "    app.run_server(debug=True)"
   ]
  }
 ],
 "metadata": {
  "kernelspec": {
   "display_name": "Python 3",
   "language": "python",
   "name": "python3"
  },
  "language_info": {
   "codemirror_mode": {
    "name": "ipython",
    "version": 3
   },
   "file_extension": ".py",
   "mimetype": "text/x-python",
   "name": "python",
   "nbconvert_exporter": "python",
   "pygments_lexer": "ipython3",
   "version": "3.11.4"
  }
 },
 "nbformat": 4,
 "nbformat_minor": 5
}
